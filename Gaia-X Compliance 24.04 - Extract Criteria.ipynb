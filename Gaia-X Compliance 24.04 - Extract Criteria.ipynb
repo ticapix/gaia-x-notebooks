{
  "nbformat": 4,
  "nbformat_minor": 0,
  "metadata": {
    "colab": {
      "provenance": [],
      "toc_visible": true,
      "authorship_tag": "ABX9TyOeC8Ty3jXFctVCaO2vDODZ",
      "include_colab_link": true
    },
    "kernelspec": {
      "name": "python3",
      "display_name": "Python 3"
    },
    "language_info": {
      "name": "python"
    }
  },
  "cells": [
    {
      "cell_type": "markdown",
      "metadata": {
        "id": "view-in-github",
        "colab_type": "text"
      },
      "source": [
        "<a href=\"https://colab.research.google.com/github/ticapix/gaia-x-notebooks/blob/main/Gaia-X%20Compliance%2024.04%20-%20Extract%20Criteria.ipynb\" target=\"_parent\"><img src=\"https://colab.research.google.com/assets/colab-badge.svg\" alt=\"Open In Colab\"/></a>"
      ]
    },
    {
      "cell_type": "markdown",
      "source": [
        "# Extract criteria from Gaia-X Compliance 24.04-prerelease"
      ],
      "metadata": {
        "id": "iFdwjLpgN_ZB"
      }
    },
    {
      "cell_type": "code",
      "source": [
        "from bs4 import BeautifulSoup\n",
        "import requests\n",
        "import json\n",
        "%matplotlib inline\n",
        "import matplotlib.pyplot as plt\n",
        "import pandas as pd\n",
        "import numpy as np"
      ],
      "metadata": {
        "id": "d_kwHbKWOIQ4"
      },
      "execution_count": 6,
      "outputs": []
    },
    {
      "cell_type": "markdown",
      "source": [
        "## Extract and load all criteria"
      ],
      "metadata": {
        "id": "H9FKN7eZNvsK"
      }
    },
    {
      "cell_type": "code",
      "source": [
        " # compliance document url\n",
        "compliance_criteria_url = \"https://docs.gaia-x.eu/policy-rules-committee/compliance-document/24.04-prerelease/criterions/\"\n",
        "\n",
        "# fetch the page\n",
        "compliance_criteria_html = requests.get(compliance_criteria_url)\n",
        "\n",
        "# parse the page\n",
        "compliance_criteria = BeautifulSoup(compliance_criteria_html.text)\n",
        "\n",
        "# extract criteria\n",
        "criteria = []\n",
        "for criterion in compliance_criteria.find_all('span', {\"class\":\"criteria-data\"}):\n",
        "    criteria.append(json.loads(criterion.text))\n",
        "\n",
        "print(f\"found {len(criteria)} criteria\")"
      ],
      "metadata": {
        "id": "brExXXnqOb85",
        "outputId": "7e23f3b6-44b8-4981-a8aa-3417fd174f57",
        "colab": {
          "base_uri": "https://localhost:8080/"
        }
      },
      "execution_count": 7,
      "outputs": [
        {
          "output_type": "stream",
          "name": "stdout",
          "text": [
            "found 63 criteria\n"
          ]
        }
      ]
    },
    {
      "cell_type": "markdown",
      "source": [
        "## Criteria distribution"
      ],
      "metadata": {
        "id": "fnUBvYtPOf_w"
      }
    },
    {
      "cell_type": "code",
      "source": [
        "scheme = ['Conformity', 'Label L1', 'Label L2', 'Label L3']\n",
        "types = [\"declaration\", \"certification\", \"N/A\"]\n",
        "df = pd.DataFrame([[0] * 3] * 4, scheme, types)\n",
        "\n",
        "for criterion in criteria:\n",
        "    df.loc[\"Conformity\", criterion[\"conformity\"]] += 1\n",
        "    df.loc[\"Label L1\", criterion[\"labelL1\"]] += 1\n",
        "    df.loc[\"Label L2\", criterion[\"labelL2\"]] += 1\n",
        "    df.loc[\"Label L3\", criterion[\"labelL3\"]] += 1\n",
        "\n",
        "print(df.head())"
      ],
      "metadata": {
        "id": "mk5_4jzUOdrv",
        "outputId": "7a5f15f6-5cf3-40a2-a2ba-e4094c825fbf",
        "colab": {
          "base_uri": "https://localhost:8080/"
        }
      },
      "execution_count": 8,
      "outputs": [
        {
          "output_type": "stream",
          "name": "stdout",
          "text": [
            "            declaration  certification  N/A\n",
            "Conformity           47              0   16\n",
            "Label L1             53              0   10\n",
            "Label L2             19             35    9\n",
            "Label L3             17             40    6\n"
          ]
        }
      ]
    },
    {
      "cell_type": "code",
      "source": [
        "plt.cla()\n",
        "plt.clf()\n",
        "# from https://datagy.io/matplotlib-bar-charts/\n",
        "xlabels = list(df.index)\n",
        "# create data\n",
        "x = np.arange(len(xlabels))\n",
        "declarations = list(df[\"declaration\"])\n",
        "certifications = list(df[\"certification\"])\n",
        "na = list(df[\"N/A\"])\n",
        "width = 0.2\n",
        "\n",
        "# plot data in grouped manner of bar type\n",
        "plt.bar(x-width, declarations, width, color='blue')\n",
        "plt.bar(x, certifications, width, color='pink')\n",
        "plt.bar(x+width, na, width, color='grey')\n",
        "plt.xticks(x, xlabels)\n",
        "plt.xlabel(\"Assessment scheme\")\n",
        "plt.ylabel(\"Number of criteria\")\n",
        "plt.legend([\"declaration\", \"certification\", \"not applicable\"])\n",
        "plt.show()"
      ],
      "metadata": {
        "id": "Y9SpI6UOOijf",
        "outputId": "bf1341e3-1599-41fc-b6f0-af840c9418fd",
        "colab": {
          "base_uri": "https://localhost:8080/",
          "height": 469
        }
      },
      "execution_count": 9,
      "outputs": [
        {
          "output_type": "display_data",
          "data": {
            "text/plain": [
              "<Figure size 640x480 with 1 Axes>"
            ],
            "image/png": "[encoded data removed]"
          },
          "metadata": {}
        }
      ]
    },
    {
      "cell_type": "code",
      "source": [],
      "metadata": {
        "id": "riP_SBBXOkaG"
      },
      "execution_count": null,
      "outputs": []
    }
  ]
}