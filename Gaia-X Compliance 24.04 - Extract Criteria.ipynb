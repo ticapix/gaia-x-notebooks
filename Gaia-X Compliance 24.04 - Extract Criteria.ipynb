{
  "nbformat": 4,
  "nbformat_minor": 0,
  "metadata": {
    "colab": {
      "provenance": [],
      "toc_visible": true,
      "authorship_tag": "ABX9TyNLcVTrcN3X4A+3HOnpU5uX",
      "include_colab_link": true
    },
    "kernelspec": {
      "name": "python3",
      "display_name": "Python 3"
    },
    "language_info": {
      "name": "python"
    }
  },
  "cells": [
    {
      "cell_type": "markdown",
      "metadata": {
        "id": "view-in-github",
        "colab_type": "text"
      },
      "source": [
        "<a href=\"https://colab.research.google.com/github/ticapix/gaia-x-notebooks/blob/main/Gaia-X%20Compliance%2024.04%20-%20Extract%20Criteria.ipynb\" target=\"_parent\"><img src=\"https://colab.research.google.com/assets/colab-badge.svg\" alt=\"Open In Colab\"/></a>"
      ]
    },
    {
      "cell_type": "code",
      "execution_count": null,
      "metadata": {
        "id": "COhpUcsSyCNp"
      },
      "outputs": [],
      "source": [
        "Extract criteria from Gaia-X Compliance 24.04-prerelease"
      ]
    },
    {
      "cell_type": "markdown",
      "source": [],
      "metadata": {
        "id": "H9FKN7eZNvsK"
      }
    }
  ]
}